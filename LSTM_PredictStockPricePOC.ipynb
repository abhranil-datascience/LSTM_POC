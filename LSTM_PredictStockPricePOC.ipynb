{
  "nbformat": 4,
  "nbformat_minor": 0,
  "metadata": {
    "colab": {
      "name": "LSTM_PredictStockPricePOC.ipynb",
      "provenance": [],
      "collapsed_sections": [],
      "include_colab_link": true
    },
    "kernelspec": {
      "name": "python3",
      "display_name": "Python 3"
    },
    "accelerator": "GPU"
  },
  "cells": [
    {
      "cell_type": "markdown",
      "metadata": {
        "id": "view-in-github",
        "colab_type": "text"
      },
      "source": [
        "<a href=\"https://colab.research.google.com/github/abhranil-datascience/LSTM_POC/blob/master/LSTM_PredictStockPricePOC.ipynb\" target=\"_parent\"><img src=\"https://colab.research.google.com/assets/colab-badge.svg\" alt=\"Open In Colab\"/></a>"
      ]
    },
    {
      "cell_type": "code",
      "metadata": {
        "id": "hhFKGi2TIks7",
        "colab_type": "code",
        "outputId": "36551fff-f8ba-43ad-87bf-70f51a5f182e",
        "colab": {
          "base_uri": "https://localhost:8080/",
          "height": 124
        }
      },
      "source": [
        "############################## Mount Drive ######################################## \n",
        "from google.colab import drive\n",
        "drive.mount('/content/gdrive')\n",
        "############################## Change Directory ###################################\n",
        "import os\n",
        "os.chdir('/content/gdrive/My Drive/MLandDLFullCourse/DL/LSTM')\n",
        "########## Suppress Warnings ############\n",
        "import warnings\n",
        "warnings.filterwarnings('ignore')\n",
        "########## Import Dataset ############\n",
        "import pandas as pd\n",
        "import numpy as np\n",
        "TrainDataset=pd.read_csv('Google_Stock_Price_Train.csv')\n",
        "TestDataset=pd.read_csv('Google_Stock_Price_Test.csv')\n",
        "TrainData=TrainDataset.iloc[:,1:2].values\n",
        "TestData=TestDataset.iloc[:,1:2].values\n",
        "####### Take Last 60 Train data and append it before Test data ######\n",
        "Last_sixty_train_data=TrainData[TrainData.shape[0]-60:TrainData.shape[0],:]\n",
        "FinalTestData=np.concatenate((Last_sixty_train_data,TestData),axis=0)\n",
        "########### Scale Dataset ###############\n",
        "from sklearn.preprocessing import MinMaxScaler\n",
        "sc_train=MinMaxScaler()\n",
        "sc_test=MinMaxScaler()\n",
        "TrainDataScaled=sc_train.fit_transform(TrainData)\n",
        "TestDataScaled=sc_test.fit_transform(FinalTestData)"
      ],
      "execution_count": 0,
      "outputs": [
        {
          "output_type": "stream",
          "text": [
            "Go to this URL in a browser: https://accounts.google.com/o/oauth2/auth?client_id=947318989803-6bn6qk8qdgf4n4g3pfee6491hc0brc4i.apps.googleusercontent.com&redirect_uri=urn%3aietf%3awg%3aoauth%3a2.0%3aoob&response_type=code&scope=email%20https%3a%2f%2fwww.googleapis.com%2fauth%2fdocs.test%20https%3a%2f%2fwww.googleapis.com%2fauth%2fdrive%20https%3a%2f%2fwww.googleapis.com%2fauth%2fdrive.photos.readonly%20https%3a%2f%2fwww.googleapis.com%2fauth%2fpeopleapi.readonly\n",
            "\n",
            "Enter your authorization code:\n",
            "··········\n",
            "Mounted at /content/gdrive\n"
          ],
          "name": "stdout"
        }
      ]
    },
    {
      "cell_type": "code",
      "metadata": {
        "id": "YeR0iQbKiaLB",
        "colab_type": "code",
        "colab": {}
      },
      "source": [
        "########### Arrange Training Data to meet 60 timestep ##############\n",
        "num_of_train_rows=TrainDataScaled.shape[0]\n",
        "max_train_rows=num_of_train_rows-60\n",
        "XTrain=[]\n",
        "YTrain=[]\n",
        "for row_num in range(0,max_train_rows):\n",
        "  XTrainTemp=[]\n",
        "  for var in range(0,60):\n",
        "    if var==59:\n",
        "      YTrain.append(TrainDataScaled[row_num+var+1][0])\n",
        "    XTrainTemp.append(TrainDataScaled[row_num+var][0])\n",
        "  XTrain.append(XTrainTemp)\n",
        "import numpy as np\n",
        "XTrainArray=np.array(XTrain)\n",
        "YTrainArray=np.array(YTrain)\n",
        "XTrainArray.reshape(max_train_rows,60)\n",
        "YTrainArray.reshape(max_train_rows,1)\n",
        "########### Arrange Test Data to meet 60 timestep ##############\n",
        "num_of_test_rows=TestDataScaled.shape[0]\n",
        "max_test_rows=num_of_test_rows-60\n",
        "XTest=[]\n",
        "YTest=[]\n",
        "for row_num in range(0,max_test_rows):\n",
        "  XTestTemp=[]\n",
        "  for var in range(0,60):\n",
        "    if var==59:\n",
        "      YTest.append(TestDataScaled[row_num+var+1][0])\n",
        "    XTestTemp.append(TestDataScaled[row_num+var][0])\n",
        "  XTest.append(XTestTemp)\n",
        "XTestArray=np.array(XTest)\n",
        "YTestArray=np.array(YTest)\n",
        "XTestArray.reshape(max_test_rows,60)\n",
        "YTestArray.reshape(max_test_rows,1)\n",
        "#############  Reshape Data to meet RNN batch expectations ####################\n",
        "XTrainLSTM=XTrainArray.reshape(XTrainArray.shape[0],XTrainArray.shape[1],1)\n",
        "YTrainLSTM=YTrainArray\n",
        "XTestLSTM=XTestArray.reshape(XTestArray.shape[0],XTestArray.shape[1],1)\n",
        "YTestLSTM=YTestArray"
      ],
      "execution_count": 0,
      "outputs": []
    },
    {
      "cell_type": "code",
      "metadata": {
        "id": "qs6yAYPoie9K",
        "colab_type": "code",
        "outputId": "c7f94975-b10c-4982-c4aa-5adb5b38e660",
        "colab": {
          "base_uri": "https://localhost:8080/",
          "height": 728
        }
      },
      "source": [
        "############# Build the LSTM ######################\n",
        "filepath='bestLSTMModel.h5'\n",
        "from keras.models import Sequential,load_model\n",
        "from keras.layers import Dense,Dropout,LSTM\n",
        "from keras.callbacks import ModelCheckpoint, ReduceLROnPlateau\n",
        "save_best_model=ModelCheckpoint(filepath, monitor='mean_absolute_error', verbose=1, save_best_only=True, mode='min')\n",
        "ReduceLR=ReduceLROnPlateau(monitor='mean_absolute_error', factor=0.8, patience=3, verbose=2,cooldown=1, min_delta=0.0020, min_lr=0.)\n",
        "regressor=Sequential()\n",
        "########### Layer 1 ################\n",
        "regressor.add(LSTM(input_shape=(XTrainLSTM.shape[1],1),units=50,return_sequences=True))\n",
        "regressor.add(Dropout(0.2))\n",
        "########### Layer 2 ################\n",
        "regressor.add(LSTM(units=50,return_sequences=True))\n",
        "regressor.add(Dropout(0.2))\n",
        "########### Layer 3 ################\n",
        "regressor.add(LSTM(units=50,return_sequences=True))\n",
        "regressor.add(Dropout(0.2))\n",
        "########### Layer 4 ################\n",
        "regressor.add(LSTM(units=50,return_sequences=True))\n",
        "regressor.add(Dropout(0.2))\n",
        "########### Layer 5 ################\n",
        "regressor.add(LSTM(units=50,return_sequences=False,activation='relu'))\n",
        "regressor.add(Dropout(0.2))\n",
        "########### Output Layer ###################\n",
        "regressor.add(Dense(units=1))\n",
        "########### Compile Model ##################\n",
        "regressor.compile(optimizer='adam',loss='mean_squared_error',metrics=['mae'])\n",
        "########### Fitting the RNN ################\n",
        "regressor.fit(x=XTrainLSTM,y=YTrainLSTM,batch_size=4,epochs=10,callbacks=[save_best_model,ReduceLR])"
      ],
      "execution_count": 0,
      "outputs": [
        {
          "output_type": "stream",
          "text": [
            "Epoch 1/10\n",
            "1198/1198 [==============================] - 173s 145ms/step - loss: 0.0211 - mean_absolute_error: 0.0977\n",
            "\n",
            "Epoch 00001: mean_absolute_error improved from inf to 0.09772, saving model to bestLSTMModel.h5\n",
            "Epoch 2/10\n",
            "1198/1198 [==============================] - 170s 142ms/step - loss: 0.0096 - mean_absolute_error: 0.0731\n",
            "\n",
            "Epoch 00002: mean_absolute_error improved from 0.09772 to 0.07311, saving model to bestLSTMModel.h5\n",
            "Epoch 3/10\n",
            "1198/1198 [==============================] - 170s 142ms/step - loss: 0.0065 - mean_absolute_error: 0.0591\n",
            "\n",
            "Epoch 00003: mean_absolute_error improved from 0.07311 to 0.05911, saving model to bestLSTMModel.h5\n",
            "Epoch 4/10\n",
            "1198/1198 [==============================] - 169s 141ms/step - loss: 0.0064 - mean_absolute_error: 0.0592\n",
            "\n",
            "Epoch 00004: mean_absolute_error did not improve from 0.05911\n",
            "Epoch 5/10\n",
            "1198/1198 [==============================] - 170s 142ms/step - loss: 0.0056 - mean_absolute_error: 0.0555\n",
            "\n",
            "Epoch 00005: mean_absolute_error improved from 0.05911 to 0.05547, saving model to bestLSTMModel.h5\n",
            "Epoch 6/10\n",
            "1198/1198 [==============================] - 169s 141ms/step - loss: 0.0061 - mean_absolute_error: 0.0572\n",
            "\n",
            "Epoch 00006: mean_absolute_error did not improve from 0.05547\n",
            "Epoch 7/10\n",
            "1198/1198 [==============================] - 170s 141ms/step - loss: 0.0047 - mean_absolute_error: 0.0517\n",
            "\n",
            "Epoch 00007: mean_absolute_error improved from 0.05547 to 0.05166, saving model to bestLSTMModel.h5\n",
            "Epoch 8/10\n",
            "1198/1198 [==============================] - 166s 138ms/step - loss: 0.0046 - mean_absolute_error: 0.0501\n",
            "\n",
            "Epoch 00008: mean_absolute_error improved from 0.05166 to 0.05007, saving model to bestLSTMModel.h5\n",
            "Epoch 9/10\n",
            "1198/1198 [==============================] - 164s 137ms/step - loss: 0.0042 - mean_absolute_error: 0.0481\n",
            "\n",
            "Epoch 00009: mean_absolute_error improved from 0.05007 to 0.04814, saving model to bestLSTMModel.h5\n",
            "Epoch 10/10\n",
            "1198/1198 [==============================] - 163s 136ms/step - loss: 0.0041 - mean_absolute_error: 0.0479\n",
            "\n",
            "Epoch 00010: mean_absolute_error improved from 0.04814 to 0.04795, saving model to bestLSTMModel.h5\n"
          ],
          "name": "stdout"
        },
        {
          "output_type": "execute_result",
          "data": {
            "text/plain": [
              "<keras.callbacks.History at 0x7f2ead2e57f0>"
            ]
          },
          "metadata": {
            "tags": []
          },
          "execution_count": 4
        }
      ]
    },
    {
      "cell_type": "code",
      "metadata": {
        "id": "70_mrkt1ij2-",
        "colab_type": "code",
        "outputId": "80296e79-d12a-4973-a91b-66f8c5c56aff",
        "colab": {
          "base_uri": "https://localhost:8080/",
          "height": 282
        }
      },
      "source": [
        "########### Load Best Model and Test ###########\n",
        "########## Load Best Fit Model #############\n",
        "BestRegressor=load_model(filepath)\n",
        "YTestPred=BestRegressor.predict(XTestLSTM)\n",
        "########## Plot Graph #####################\n",
        "num_of_datapoints=YTestPred.shape[0]+1\n",
        "import matplotlib.pyplot as plt\n",
        "plt.plot(range(1,num_of_datapoints),YTestPred,c='red')\n",
        "plt.plot(range(1,num_of_datapoints),YTestLSTM,c='blue')"
      ],
      "execution_count": 0,
      "outputs": [
        {
          "output_type": "execute_result",
          "data": {
            "text/plain": [
              "[<matplotlib.lines.Line2D at 0x7f2eac2a7f98>]"
            ]
          },
          "metadata": {
            "tags": []
          },
          "execution_count": 5
        },
        {
          "output_type": "display_data",
          "data": {
            "image/png": "[encoded data removed]",
            "text/plain": [
              "<Figure size 432x288 with 1 Axes>"
            ]
          },
          "metadata": {
            "tags": []
          }
        }
      ]
    }
  ]
}